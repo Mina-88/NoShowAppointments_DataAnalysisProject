{
 "cells": [
  {
   "cell_type": "markdown",
   "id": "8945869b",
   "metadata": {},
   "source": [
    "# Investigating Medical Appointment No Shows dataset"
   ]
  },
  {
   "cell_type": "markdown",
   "id": "4bfd4121",
   "metadata": {},
   "source": [
    "<b>The questions:</b>\n",
    "<ol>\n",
    "    <li> Does the difference in time between scheduling the appointment and its actual date affect people not showing for it?\n",
    "    </li>\n",
    "    <li>How is the age distributions skewed for show or no show appointments?</li>\n",
    "    <li>Does prior medical conditions affect people showing up rate?</li>\n",
    "    <li>Does confirmations like SMS affect people showing up rate?</li>\n",
    "</ol>"
   ]
  },
  {
   "cell_type": "code",
   "execution_count": 1,
   "id": "fcedc9af",
   "metadata": {},
   "outputs": [],
   "source": [
    "import numpy as np\n",
    "import pandas as pd\n",
    "import matplotlib.pyplot as plt\n",
    "from sklearn import preprocessing\n",
    "\n",
    "%matplotlib inline\n",
    "plt.rcParams[\"figure.figsize\"] = [10, 5]"
   ]
  },
  {
   "cell_type": "markdown",
   "id": "2ffa6a4a",
   "metadata": {},
   "source": [
    "# Doing basic operations"
   ]
  },
  {
   "cell_type": "markdown",
   "id": "ba1c2cf9",
   "metadata": {},
   "source": [
    "## importing data and taking a look at statistics."
   ]
  },
  {
   "cell_type": "markdown",
   "id": "cf09be5e",
   "metadata": {},
   "source": [
    "Importing the data."
   ]
  },
  {
   "cell_type": "code",
   "execution_count": 2,
   "id": "b154fe22",
   "metadata": {},
   "outputs": [
    {
     "data": {
      "text/html": [
       "<div>\n",
       "<style scoped>\n",
       "    .dataframe tbody tr th:only-of-type {\n",
       "        vertical-align: middle;\n",
       "    }\n",
       "\n",
       "    .dataframe tbody tr th {\n",
       "        vertical-align: top;\n",
       "    }\n",
       "\n",
       "    .dataframe thead th {\n",
       "        text-align: right;\n",
       "    }\n",
       "</style>\n",
       "<table border=\"1\" class=\"dataframe\">\n",
       "  <thead>\n",
       "    <tr style=\"text-align: right;\">\n",
       "      <th></th>\n",
       "      <th>PatientId</th>\n",
       "      <th>AppointmentID</th>\n",
       "      <th>Gender</th>\n",
       "      <th>ScheduledDay</th>\n",
       "      <th>AppointmentDay</th>\n",
       "      <th>Age</th>\n",
       "      <th>Neighbourhood</th>\n",
       "      <th>Scholarship</th>\n",
       "      <th>Hipertension</th>\n",
       "      <th>Diabetes</th>\n",
       "      <th>Alcoholism</th>\n",
       "      <th>Handcap</th>\n",
       "      <th>SMS_received</th>\n",
       "      <th>No-show</th>\n",
       "    </tr>\n",
       "  </thead>\n",
       "  <tbody>\n",
       "    <tr>\n",
       "      <th>0</th>\n",
       "      <td>2.987250e+13</td>\n",
       "      <td>5642903</td>\n",
       "      <td>F</td>\n",
       "      <td>2016-04-29T18:38:08Z</td>\n",
       "      <td>2016-04-29T00:00:00Z</td>\n",
       "      <td>62</td>\n",
       "      <td>JARDIM DA PENHA</td>\n",
       "      <td>0</td>\n",
       "      <td>1</td>\n",
       "      <td>0</td>\n",
       "      <td>0</td>\n",
       "      <td>0</td>\n",
       "      <td>0</td>\n",
       "      <td>No</td>\n",
       "    </tr>\n",
       "    <tr>\n",
       "      <th>1</th>\n",
       "      <td>5.589978e+14</td>\n",
       "      <td>5642503</td>\n",
       "      <td>M</td>\n",
       "      <td>2016-04-29T16:08:27Z</td>\n",
       "      <td>2016-04-29T00:00:00Z</td>\n",
       "      <td>56</td>\n",
       "      <td>JARDIM DA PENHA</td>\n",
       "      <td>0</td>\n",
       "      <td>0</td>\n",
       "      <td>0</td>\n",
       "      <td>0</td>\n",
       "      <td>0</td>\n",
       "      <td>0</td>\n",
       "      <td>No</td>\n",
       "    </tr>\n",
       "    <tr>\n",
       "      <th>2</th>\n",
       "      <td>4.262962e+12</td>\n",
       "      <td>5642549</td>\n",
       "      <td>F</td>\n",
       "      <td>2016-04-29T16:19:04Z</td>\n",
       "      <td>2016-04-29T00:00:00Z</td>\n",
       "      <td>62</td>\n",
       "      <td>MATA DA PRAIA</td>\n",
       "      <td>0</td>\n",
       "      <td>0</td>\n",
       "      <td>0</td>\n",
       "      <td>0</td>\n",
       "      <td>0</td>\n",
       "      <td>0</td>\n",
       "      <td>No</td>\n",
       "    </tr>\n",
       "    <tr>\n",
       "      <th>3</th>\n",
       "      <td>8.679512e+11</td>\n",
       "      <td>5642828</td>\n",
       "      <td>F</td>\n",
       "      <td>2016-04-29T17:29:31Z</td>\n",
       "      <td>2016-04-29T00:00:00Z</td>\n",
       "      <td>8</td>\n",
       "      <td>PONTAL DE CAMBURI</td>\n",
       "      <td>0</td>\n",
       "      <td>0</td>\n",
       "      <td>0</td>\n",
       "      <td>0</td>\n",
       "      <td>0</td>\n",
       "      <td>0</td>\n",
       "      <td>No</td>\n",
       "    </tr>\n",
       "    <tr>\n",
       "      <th>4</th>\n",
       "      <td>8.841186e+12</td>\n",
       "      <td>5642494</td>\n",
       "      <td>F</td>\n",
       "      <td>2016-04-29T16:07:23Z</td>\n",
       "      <td>2016-04-29T00:00:00Z</td>\n",
       "      <td>56</td>\n",
       "      <td>JARDIM DA PENHA</td>\n",
       "      <td>0</td>\n",
       "      <td>1</td>\n",
       "      <td>1</td>\n",
       "      <td>0</td>\n",
       "      <td>0</td>\n",
       "      <td>0</td>\n",
       "      <td>No</td>\n",
       "    </tr>\n",
       "  </tbody>\n",
       "</table>\n",
       "</div>"
      ],
      "text/plain": [
       "      PatientId  AppointmentID Gender          ScheduledDay  \\\n",
       "0  2.987250e+13        5642903      F  2016-04-29T18:38:08Z   \n",
       "1  5.589978e+14        5642503      M  2016-04-29T16:08:27Z   \n",
       "2  4.262962e+12        5642549      F  2016-04-29T16:19:04Z   \n",
       "3  8.679512e+11        5642828      F  2016-04-29T17:29:31Z   \n",
       "4  8.841186e+12        5642494      F  2016-04-29T16:07:23Z   \n",
       "\n",
       "         AppointmentDay  Age      Neighbourhood  Scholarship  Hipertension  \\\n",
       "0  2016-04-29T00:00:00Z   62    JARDIM DA PENHA            0             1   \n",
       "1  2016-04-29T00:00:00Z   56    JARDIM DA PENHA            0             0   \n",
       "2  2016-04-29T00:00:00Z   62      MATA DA PRAIA            0             0   \n",
       "3  2016-04-29T00:00:00Z    8  PONTAL DE CAMBURI            0             0   \n",
       "4  2016-04-29T00:00:00Z   56    JARDIM DA PENHA            0             1   \n",
       "\n",
       "   Diabetes  Alcoholism  Handcap  SMS_received No-show  \n",
       "0         0           0        0             0      No  \n",
       "1         0           0        0             0      No  \n",
       "2         0           0        0             0      No  \n",
       "3         0           0        0             0      No  \n",
       "4         1           0        0             0      No  "
      ]
     },
     "execution_count": 2,
     "metadata": {},
     "output_type": "execute_result"
    }
   ],
   "source": [
    "data = pd.read_csv('noshowappointments-kagglev2-may-2016.csv')\n",
    "data.head()"
   ]
  },
  {
   "cell_type": "markdown",
   "id": "e1cbe645",
   "metadata": {},
   "source": [
    "Looking at the size of the dataframe."
   ]
  },
  {
   "cell_type": "code",
   "execution_count": 3,
   "id": "6076a0c0",
   "metadata": {},
   "outputs": [
    {
     "data": {
      "text/plain": [
       "(110527, 14)"
      ]
     },
     "execution_count": 3,
     "metadata": {},
     "output_type": "execute_result"
    }
   ],
   "source": [
    "data.shape"
   ]
  },
  {
   "cell_type": "markdown",
   "id": "b66e1e66",
   "metadata": {},
   "source": [
    "Dropping columns that might not be useful in our analysis. As they are computer generated keys in case of "
   ]
  },
  {
   "cell_type": "code",
   "execution_count": 4,
   "id": "d45caae4",
   "metadata": {},
   "outputs": [],
   "source": [
    "data.drop(['PatientId', 'AppointmentID', 'Neighbourhood'], axis = 1, inplace = True)"
   ]
  },
  {
   "cell_type": "markdown",
   "id": "e6370e7d",
   "metadata": {},
   "source": [
    "Changing the appointments' scheduling times and the times of appointments to the difference between them."
   ]
  },
  {
   "cell_type": "code",
   "execution_count": 5,
   "id": "ca8bcd06",
   "metadata": {},
   "outputs": [],
   "source": [
    "data['timeDiff'] =  pd.to_datetime(data['AppointmentDay']) - pd.to_datetime(data['ScheduledDay'])\n",
    "data['timeDiff'] = data['timeDiff'].apply(lambda x: x.days)\n"
   ]
  },
  {
   "cell_type": "markdown",
   "id": "da4a542c",
   "metadata": {},
   "source": [
    "Looking at the basic statistics of the data."
   ]
  },
  {
   "cell_type": "code",
   "execution_count": 6,
   "id": "9b261487",
   "metadata": {},
   "outputs": [
    {
     "data": {
      "text/html": [
       "<div>\n",
       "<style scoped>\n",
       "    .dataframe tbody tr th:only-of-type {\n",
       "        vertical-align: middle;\n",
       "    }\n",
       "\n",
       "    .dataframe tbody tr th {\n",
       "        vertical-align: top;\n",
       "    }\n",
       "\n",
       "    .dataframe thead th {\n",
       "        text-align: right;\n",
       "    }\n",
       "</style>\n",
       "<table border=\"1\" class=\"dataframe\">\n",
       "  <thead>\n",
       "    <tr style=\"text-align: right;\">\n",
       "      <th></th>\n",
       "      <th>Age</th>\n",
       "      <th>Scholarship</th>\n",
       "      <th>Hipertension</th>\n",
       "      <th>Diabetes</th>\n",
       "      <th>Alcoholism</th>\n",
       "      <th>Handcap</th>\n",
       "      <th>SMS_received</th>\n",
       "      <th>timeDiff</th>\n",
       "    </tr>\n",
       "  </thead>\n",
       "  <tbody>\n",
       "    <tr>\n",
       "      <th>count</th>\n",
       "      <td>110527.000000</td>\n",
       "      <td>110527.000000</td>\n",
       "      <td>110527.000000</td>\n",
       "      <td>110527.000000</td>\n",
       "      <td>110527.000000</td>\n",
       "      <td>110527.000000</td>\n",
       "      <td>110527.000000</td>\n",
       "      <td>110527.000000</td>\n",
       "    </tr>\n",
       "    <tr>\n",
       "      <th>mean</th>\n",
       "      <td>37.088874</td>\n",
       "      <td>0.098266</td>\n",
       "      <td>0.197246</td>\n",
       "      <td>0.071865</td>\n",
       "      <td>0.030400</td>\n",
       "      <td>0.022248</td>\n",
       "      <td>0.321026</td>\n",
       "      <td>9.183702</td>\n",
       "    </tr>\n",
       "    <tr>\n",
       "      <th>std</th>\n",
       "      <td>23.110205</td>\n",
       "      <td>0.297675</td>\n",
       "      <td>0.397921</td>\n",
       "      <td>0.258265</td>\n",
       "      <td>0.171686</td>\n",
       "      <td>0.161543</td>\n",
       "      <td>0.466873</td>\n",
       "      <td>15.254996</td>\n",
       "    </tr>\n",
       "    <tr>\n",
       "      <th>min</th>\n",
       "      <td>-1.000000</td>\n",
       "      <td>0.000000</td>\n",
       "      <td>0.000000</td>\n",
       "      <td>0.000000</td>\n",
       "      <td>0.000000</td>\n",
       "      <td>0.000000</td>\n",
       "      <td>0.000000</td>\n",
       "      <td>-7.000000</td>\n",
       "    </tr>\n",
       "    <tr>\n",
       "      <th>25%</th>\n",
       "      <td>18.000000</td>\n",
       "      <td>0.000000</td>\n",
       "      <td>0.000000</td>\n",
       "      <td>0.000000</td>\n",
       "      <td>0.000000</td>\n",
       "      <td>0.000000</td>\n",
       "      <td>0.000000</td>\n",
       "      <td>-1.000000</td>\n",
       "    </tr>\n",
       "    <tr>\n",
       "      <th>50%</th>\n",
       "      <td>37.000000</td>\n",
       "      <td>0.000000</td>\n",
       "      <td>0.000000</td>\n",
       "      <td>0.000000</td>\n",
       "      <td>0.000000</td>\n",
       "      <td>0.000000</td>\n",
       "      <td>0.000000</td>\n",
       "      <td>3.000000</td>\n",
       "    </tr>\n",
       "    <tr>\n",
       "      <th>75%</th>\n",
       "      <td>55.000000</td>\n",
       "      <td>0.000000</td>\n",
       "      <td>0.000000</td>\n",
       "      <td>0.000000</td>\n",
       "      <td>0.000000</td>\n",
       "      <td>0.000000</td>\n",
       "      <td>1.000000</td>\n",
       "      <td>14.000000</td>\n",
       "    </tr>\n",
       "    <tr>\n",
       "      <th>max</th>\n",
       "      <td>115.000000</td>\n",
       "      <td>1.000000</td>\n",
       "      <td>1.000000</td>\n",
       "      <td>1.000000</td>\n",
       "      <td>1.000000</td>\n",
       "      <td>4.000000</td>\n",
       "      <td>1.000000</td>\n",
       "      <td>178.000000</td>\n",
       "    </tr>\n",
       "  </tbody>\n",
       "</table>\n",
       "</div>"
      ],
      "text/plain": [
       "                 Age    Scholarship   Hipertension       Diabetes  \\\n",
       "count  110527.000000  110527.000000  110527.000000  110527.000000   \n",
       "mean       37.088874       0.098266       0.197246       0.071865   \n",
       "std        23.110205       0.297675       0.397921       0.258265   \n",
       "min        -1.000000       0.000000       0.000000       0.000000   \n",
       "25%        18.000000       0.000000       0.000000       0.000000   \n",
       "50%        37.000000       0.000000       0.000000       0.000000   \n",
       "75%        55.000000       0.000000       0.000000       0.000000   \n",
       "max       115.000000       1.000000       1.000000       1.000000   \n",
       "\n",
       "          Alcoholism        Handcap   SMS_received       timeDiff  \n",
       "count  110527.000000  110527.000000  110527.000000  110527.000000  \n",
       "mean        0.030400       0.022248       0.321026       9.183702  \n",
       "std         0.171686       0.161543       0.466873      15.254996  \n",
       "min         0.000000       0.000000       0.000000      -7.000000  \n",
       "25%         0.000000       0.000000       0.000000      -1.000000  \n",
       "50%         0.000000       0.000000       0.000000       3.000000  \n",
       "75%         0.000000       0.000000       1.000000      14.000000  \n",
       "max         1.000000       4.000000       1.000000     178.000000  "
      ]
     },
     "execution_count": 6,
     "metadata": {},
     "output_type": "execute_result"
    }
   ],
   "source": [
    "data.describe()"
   ]
  },
  {
   "cell_type": "markdown",
   "id": "25fb2ed8",
   "metadata": {},
   "source": [
    "<b>Obesrvations:</b>\n",
    "\n",
    "<ol>\n",
    "    <li>There are ages which have the value \"-1\" and they most likely mean that the data at these instances are missing.</li>\n",
    "    <li>there are negative time differences which are most likely because the one who types the dates swapped them.</li>\n",
    "    <li>There is someone who made an appointment and his/her age was 115, which is cool.</li>\n",
    "</ol>"
   ]
  },
  {
   "cell_type": "code",
   "execution_count": 7,
   "id": "747f592a",
   "metadata": {
    "scrolled": true
   },
   "outputs": [
    {
     "data": {
      "image/png": "[encoded data removed]",
      "text/plain": [
       "<Figure size 720x360 with 1 Axes>"
      ]
     },
     "metadata": {
      "needs_background": "light"
     },
     "output_type": "display_data"
    }
   ],
   "source": [
    "plt.hist(data['timeDiff'])\n",
    "plt.xlabel('Time difference between scheduling and appointment (days)')\n",
    "plt.ylabel('Frequency')\n",
    "plt.title(\"Time difference and the amount of appointments reserved for each\")\n",
    "plt.show()"
   ]
  },
  {
   "cell_type": "markdown",
   "id": "69e68cad",
   "metadata": {},
   "source": [
    "The time difference between scheduling an appointment and the actual date has high frequency around low numbers(e.g. 2, 3 days are more common than 25)"
   ]
  },
  {
   "cell_type": "code",
   "execution_count": 8,
   "id": "ea761d6e",
   "metadata": {},
   "outputs": [
    {
     "data": {
      "image/png": "[encoded data removed]",
      "text/plain": [
       "<Figure size 720x360 with 1 Axes>"
      ]
     },
     "metadata": {
      "needs_background": "light"
     },
     "output_type": "display_data"
    }
   ],
   "source": [
    "plt.hist(data['Age'], 100)\n",
    "plt.xlabel('Age')\n",
    "plt.ylabel('Frequency')\n",
    "plt.title('Age frequency for doctor appointments')\n",
    "plt.show()"
   ]
  },
  {
   "cell_type": "markdown",
   "id": "0fb8dd8f",
   "metadata": {},
   "source": [
    "Age nearly has a uniform distribution till we reach 60. This might hint that people of all ages get sick with rates similar, maybe different diseases but on the bigger scale it is similar."
   ]
  },
  {
   "cell_type": "code",
   "execution_count": 9,
   "id": "fc7eade0",
   "metadata": {
    "scrolled": false
   },
   "outputs": [
    {
     "data": {
      "image/png": "[encoded data removed]",
      "text/plain": [
       "<Figure size 720x360 with 1 Axes>"
      ]
     },
     "metadata": {
      "needs_background": "light"
     },
     "output_type": "display_data"
    }
   ],
   "source": [
    "plt.bar(data['Gender'].unique(), [sum(data['Gender'] == x) for x in data['Gender'].unique()])\n",
    "plt.xlabel('Gender')\n",
    "plt.ylabel('Frequency')\n",
    "plt.title('The frequency of each gender booking an appointment')\n",
    "plt.show()"
   ]
  },
  {
   "cell_type": "markdown",
   "id": "d72aac3e",
   "metadata": {},
   "source": [
    "The frequency of females visiting doctors is higher than that of males."
   ]
  },
  {
   "cell_type": "code",
   "execution_count": 10,
   "id": "3903083d",
   "metadata": {
    "scrolled": true
   },
   "outputs": [
    {
     "data": {
      "text/plain": [
       "1.8569545325303074"
      ]
     },
     "execution_count": 10,
     "metadata": {},
     "output_type": "execute_result"
    }
   ],
   "source": [
    "relative = sum(data['Gender'] == 'F') / sum(data['Gender'] == 'M')\n",
    "relative"
   ]
  },
  {
   "cell_type": "code",
   "execution_count": 11,
   "id": "b8af5128",
   "metadata": {
    "scrolled": false
   },
   "outputs": [
    {
     "data": {
      "text/plain": [
       "<function matplotlib.pyplot.show(close=None, block=None)>"
      ]
     },
     "execution_count": 11,
     "metadata": {},
     "output_type": "execute_result"
    },
    {
     "data": {
      "image/png": "[encoded data removed]",
      "text/plain": [
       "<Figure size 720x360 with 6 Axes>"
      ]
     },
     "metadata": {
      "needs_background": "light"
     },
     "output_type": "display_data"
    }
   ],
   "source": [
    "figure, axes = plt.subplots(nrows=3, ncols=2)\n",
    "\n",
    "ind = 4\n",
    "for i in range(3):\n",
    "    for j in range(2):\n",
    "        curr = data.iloc[:, ind]\n",
    "        axes[i, j].bar(curr.unique(), [sum(curr == x) for x in curr.unique()]) \n",
    "        axes[i, j].set_title(data.keys()[ind])\n",
    "        label = data.keys()[ind] + ' existence'\n",
    "        axes[i, j].set_xlabel(label)\n",
    "        axes[i, j].set_ylabel('Frequency')\n",
    "        ind += 1\n",
    "\n",
    "\n",
    "plt.tight_layout()\n",
    "plt.show"
   ]
  },
  {
   "cell_type": "markdown",
   "id": "49bd0710",
   "metadata": {},
   "source": [
    "All of these plots show that the majority of appointments are done by people who do not suffer from chronic illnesses."
   ]
  },
  {
   "cell_type": "markdown",
   "id": "3d354321",
   "metadata": {},
   "source": [
    "<b>Obesrvations:</b>\n",
    "\n",
    "<ol>\n",
    "    <li>Time difference: around 50% of the people schedule their appointments in less than 3 days in advance.</li>\n",
    "    <li>Age: The histogram approximately follows normal distribution till we reach 60 then it starts decreasing.</li>\n",
    "    <li>Gender: The proportion of females to males that make appointment is around 2 which shows that females make appointments in this case twice as men</li>\n",
    "    <li>other features: in most cases the people who had a medical condition is much less than people with no prior medical conditions overall</li>\n",
    "</ol>"
   ]
  },
  {
   "cell_type": "markdown",
   "id": "81e6e20c",
   "metadata": {},
   "source": [
    "#### changing the target column to 1,0 in order to use it later"
   ]
  },
  {
   "cell_type": "code",
   "execution_count": 12,
   "id": "730bd4d8",
   "metadata": {},
   "outputs": [],
   "source": [
    "data['No-show'] = data['No-show'].apply(lambda x: 1 if x == 'Yes' else 0)"
   ]
  },
  {
   "cell_type": "code",
   "execution_count": 13,
   "id": "e25cf80d",
   "metadata": {},
   "outputs": [
    {
     "data": {
      "text/html": [
       "<div>\n",
       "<style scoped>\n",
       "    .dataframe tbody tr th:only-of-type {\n",
       "        vertical-align: middle;\n",
       "    }\n",
       "\n",
       "    .dataframe tbody tr th {\n",
       "        vertical-align: top;\n",
       "    }\n",
       "\n",
       "    .dataframe thead th {\n",
       "        text-align: right;\n",
       "    }\n",
       "</style>\n",
       "<table border=\"1\" class=\"dataframe\">\n",
       "  <thead>\n",
       "    <tr style=\"text-align: right;\">\n",
       "      <th></th>\n",
       "      <th>Gender</th>\n",
       "      <th>ScheduledDay</th>\n",
       "      <th>AppointmentDay</th>\n",
       "      <th>Age</th>\n",
       "      <th>Scholarship</th>\n",
       "      <th>Hipertension</th>\n",
       "      <th>Diabetes</th>\n",
       "      <th>Alcoholism</th>\n",
       "      <th>Handcap</th>\n",
       "      <th>SMS_received</th>\n",
       "      <th>No-show</th>\n",
       "      <th>timeDiff</th>\n",
       "    </tr>\n",
       "  </thead>\n",
       "  <tbody>\n",
       "    <tr>\n",
       "      <th>0</th>\n",
       "      <td>F</td>\n",
       "      <td>2016-04-29T18:38:08Z</td>\n",
       "      <td>2016-04-29T00:00:00Z</td>\n",
       "      <td>62</td>\n",
       "      <td>0</td>\n",
       "      <td>1</td>\n",
       "      <td>0</td>\n",
       "      <td>0</td>\n",
       "      <td>0</td>\n",
       "      <td>0</td>\n",
       "      <td>0</td>\n",
       "      <td>-1</td>\n",
       "    </tr>\n",
       "    <tr>\n",
       "      <th>1</th>\n",
       "      <td>M</td>\n",
       "      <td>2016-04-29T16:08:27Z</td>\n",
       "      <td>2016-04-29T00:00:00Z</td>\n",
       "      <td>56</td>\n",
       "      <td>0</td>\n",
       "      <td>0</td>\n",
       "      <td>0</td>\n",
       "      <td>0</td>\n",
       "      <td>0</td>\n",
       "      <td>0</td>\n",
       "      <td>0</td>\n",
       "      <td>-1</td>\n",
       "    </tr>\n",
       "    <tr>\n",
       "      <th>2</th>\n",
       "      <td>F</td>\n",
       "      <td>2016-04-29T16:19:04Z</td>\n",
       "      <td>2016-04-29T00:00:00Z</td>\n",
       "      <td>62</td>\n",
       "      <td>0</td>\n",
       "      <td>0</td>\n",
       "      <td>0</td>\n",
       "      <td>0</td>\n",
       "      <td>0</td>\n",
       "      <td>0</td>\n",
       "      <td>0</td>\n",
       "      <td>-1</td>\n",
       "    </tr>\n",
       "    <tr>\n",
       "      <th>3</th>\n",
       "      <td>F</td>\n",
       "      <td>2016-04-29T17:29:31Z</td>\n",
       "      <td>2016-04-29T00:00:00Z</td>\n",
       "      <td>8</td>\n",
       "      <td>0</td>\n",
       "      <td>0</td>\n",
       "      <td>0</td>\n",
       "      <td>0</td>\n",
       "      <td>0</td>\n",
       "      <td>0</td>\n",
       "      <td>0</td>\n",
       "      <td>-1</td>\n",
       "    </tr>\n",
       "    <tr>\n",
       "      <th>4</th>\n",
       "      <td>F</td>\n",
       "      <td>2016-04-29T16:07:23Z</td>\n",
       "      <td>2016-04-29T00:00:00Z</td>\n",
       "      <td>56</td>\n",
       "      <td>0</td>\n",
       "      <td>1</td>\n",
       "      <td>1</td>\n",
       "      <td>0</td>\n",
       "      <td>0</td>\n",
       "      <td>0</td>\n",
       "      <td>0</td>\n",
       "      <td>-1</td>\n",
       "    </tr>\n",
       "  </tbody>\n",
       "</table>\n",
       "</div>"
      ],
      "text/plain": [
       "  Gender          ScheduledDay        AppointmentDay  Age  Scholarship  \\\n",
       "0      F  2016-04-29T18:38:08Z  2016-04-29T00:00:00Z   62            0   \n",
       "1      M  2016-04-29T16:08:27Z  2016-04-29T00:00:00Z   56            0   \n",
       "2      F  2016-04-29T16:19:04Z  2016-04-29T00:00:00Z   62            0   \n",
       "3      F  2016-04-29T17:29:31Z  2016-04-29T00:00:00Z    8            0   \n",
       "4      F  2016-04-29T16:07:23Z  2016-04-29T00:00:00Z   56            0   \n",
       "\n",
       "   Hipertension  Diabetes  Alcoholism  Handcap  SMS_received  No-show  \\\n",
       "0             1         0           0        0             0        0   \n",
       "1             0         0           0        0             0        0   \n",
       "2             0         0           0        0             0        0   \n",
       "3             0         0           0        0             0        0   \n",
       "4             1         1           0        0             0        0   \n",
       "\n",
       "   timeDiff  \n",
       "0        -1  \n",
       "1        -1  \n",
       "2        -1  \n",
       "3        -1  \n",
       "4        -1  "
      ]
     },
     "execution_count": 13,
     "metadata": {},
     "output_type": "execute_result"
    }
   ],
   "source": [
    "data.head()"
   ]
  },
  {
   "cell_type": "markdown",
   "id": "1e3ef484",
   "metadata": {},
   "source": [
    "Now we will perform some data analysis on people who showed for the appointment vs who did not. We can use group by to perform these operations but it is just easier to split it according to \"No-show\"."
   ]
  },
  {
   "cell_type": "markdown",
   "id": "3fb65c17",
   "metadata": {},
   "source": [
    "# People who did not show up for the appointment"
   ]
  },
  {
   "cell_type": "markdown",
   "id": "ce045aff",
   "metadata": {},
   "source": [
    "Making a separate dataset for the people who did not show up."
   ]
  },
  {
   "cell_type": "code",
   "execution_count": 14,
   "id": "1f9ebbe9",
   "metadata": {},
   "outputs": [],
   "source": [
    "dataNot = data[data['No-show'] == 1]"
   ]
  },
  {
   "cell_type": "code",
   "execution_count": 15,
   "id": "21937b1c",
   "metadata": {},
   "outputs": [
    {
     "data": {
      "text/plain": [
       "array([1], dtype=int64)"
      ]
     },
     "execution_count": 15,
     "metadata": {},
     "output_type": "execute_result"
    }
   ],
   "source": [
    "dataNot['No-show'].unique()"
   ]
  },
  {
   "cell_type": "code",
   "execution_count": 16,
   "id": "7590ea21",
   "metadata": {},
   "outputs": [
    {
     "data": {
      "text/plain": [
       "(22319, 12)"
      ]
     },
     "execution_count": 16,
     "metadata": {},
     "output_type": "execute_result"
    }
   ],
   "source": [
    "dataNot.shape"
   ]
  },
  {
   "cell_type": "markdown",
   "id": "ffdc467b",
   "metadata": {},
   "source": [
    "Getting the basic statistics."
   ]
  },
  {
   "cell_type": "code",
   "execution_count": 17,
   "id": "d4486e28",
   "metadata": {
    "scrolled": true
   },
   "outputs": [
    {
     "data": {
      "text/html": [
       "<div>\n",
       "<style scoped>\n",
       "    .dataframe tbody tr th:only-of-type {\n",
       "        vertical-align: middle;\n",
       "    }\n",
       "\n",
       "    .dataframe tbody tr th {\n",
       "        vertical-align: top;\n",
       "    }\n",
       "\n",
       "    .dataframe thead th {\n",
       "        text-align: right;\n",
       "    }\n",
       "</style>\n",
       "<table border=\"1\" class=\"dataframe\">\n",
       "  <thead>\n",
       "    <tr style=\"text-align: right;\">\n",
       "      <th></th>\n",
       "      <th>Age</th>\n",
       "      <th>Scholarship</th>\n",
       "      <th>Hipertension</th>\n",
       "      <th>Diabetes</th>\n",
       "      <th>Alcoholism</th>\n",
       "      <th>Handcap</th>\n",
       "      <th>SMS_received</th>\n",
       "      <th>No-show</th>\n",
       "      <th>timeDiff</th>\n",
       "    </tr>\n",
       "  </thead>\n",
       "  <tbody>\n",
       "    <tr>\n",
       "      <th>count</th>\n",
       "      <td>22319.000000</td>\n",
       "      <td>22319.000000</td>\n",
       "      <td>22319.000000</td>\n",
       "      <td>22319.000000</td>\n",
       "      <td>22319.000000</td>\n",
       "      <td>22319.000000</td>\n",
       "      <td>22319.000000</td>\n",
       "      <td>22319.0</td>\n",
       "      <td>22319.000000</td>\n",
       "    </tr>\n",
       "    <tr>\n",
       "      <th>mean</th>\n",
       "      <td>34.317667</td>\n",
       "      <td>0.115507</td>\n",
       "      <td>0.169004</td>\n",
       "      <td>0.064071</td>\n",
       "      <td>0.030333</td>\n",
       "      <td>0.020297</td>\n",
       "      <td>0.438371</td>\n",
       "      <td>1.0</td>\n",
       "      <td>14.831489</td>\n",
       "    </tr>\n",
       "    <tr>\n",
       "      <th>std</th>\n",
       "      <td>21.965941</td>\n",
       "      <td>0.319640</td>\n",
       "      <td>0.374764</td>\n",
       "      <td>0.244885</td>\n",
       "      <td>0.171505</td>\n",
       "      <td>0.156670</td>\n",
       "      <td>0.496198</td>\n",
       "      <td>0.0</td>\n",
       "      <td>16.605912</td>\n",
       "    </tr>\n",
       "    <tr>\n",
       "      <th>min</th>\n",
       "      <td>0.000000</td>\n",
       "      <td>0.000000</td>\n",
       "      <td>0.000000</td>\n",
       "      <td>0.000000</td>\n",
       "      <td>0.000000</td>\n",
       "      <td>0.000000</td>\n",
       "      <td>0.000000</td>\n",
       "      <td>1.0</td>\n",
       "      <td>-7.000000</td>\n",
       "    </tr>\n",
       "    <tr>\n",
       "      <th>25%</th>\n",
       "      <td>16.000000</td>\n",
       "      <td>0.000000</td>\n",
       "      <td>0.000000</td>\n",
       "      <td>0.000000</td>\n",
       "      <td>0.000000</td>\n",
       "      <td>0.000000</td>\n",
       "      <td>0.000000</td>\n",
       "      <td>1.0</td>\n",
       "      <td>3.000000</td>\n",
       "    </tr>\n",
       "    <tr>\n",
       "      <th>50%</th>\n",
       "      <td>33.000000</td>\n",
       "      <td>0.000000</td>\n",
       "      <td>0.000000</td>\n",
       "      <td>0.000000</td>\n",
       "      <td>0.000000</td>\n",
       "      <td>0.000000</td>\n",
       "      <td>0.000000</td>\n",
       "      <td>1.0</td>\n",
       "      <td>10.000000</td>\n",
       "    </tr>\n",
       "    <tr>\n",
       "      <th>75%</th>\n",
       "      <td>51.000000</td>\n",
       "      <td>0.000000</td>\n",
       "      <td>0.000000</td>\n",
       "      <td>0.000000</td>\n",
       "      <td>0.000000</td>\n",
       "      <td>0.000000</td>\n",
       "      <td>1.000000</td>\n",
       "      <td>1.0</td>\n",
       "      <td>22.000000</td>\n",
       "    </tr>\n",
       "    <tr>\n",
       "      <th>max</th>\n",
       "      <td>115.000000</td>\n",
       "      <td>1.000000</td>\n",
       "      <td>1.000000</td>\n",
       "      <td>1.000000</td>\n",
       "      <td>1.000000</td>\n",
       "      <td>4.000000</td>\n",
       "      <td>1.000000</td>\n",
       "      <td>1.0</td>\n",
       "      <td>178.000000</td>\n",
       "    </tr>\n",
       "  </tbody>\n",
       "</table>\n",
       "</div>"
      ],
      "text/plain": [
       "                Age   Scholarship  Hipertension      Diabetes    Alcoholism  \\\n",
       "count  22319.000000  22319.000000  22319.000000  22319.000000  22319.000000   \n",
       "mean      34.317667      0.115507      0.169004      0.064071      0.030333   \n",
       "std       21.965941      0.319640      0.374764      0.244885      0.171505   \n",
       "min        0.000000      0.000000      0.000000      0.000000      0.000000   \n",
       "25%       16.000000      0.000000      0.000000      0.000000      0.000000   \n",
       "50%       33.000000      0.000000      0.000000      0.000000      0.000000   \n",
       "75%       51.000000      0.000000      0.000000      0.000000      0.000000   \n",
       "max      115.000000      1.000000      1.000000      1.000000      1.000000   \n",
       "\n",
       "            Handcap  SMS_received  No-show      timeDiff  \n",
       "count  22319.000000  22319.000000  22319.0  22319.000000  \n",
       "mean       0.020297      0.438371      1.0     14.831489  \n",
       "std        0.156670      0.496198      0.0     16.605912  \n",
       "min        0.000000      0.000000      1.0     -7.000000  \n",
       "25%        0.000000      0.000000      1.0      3.000000  \n",
       "50%        0.000000      0.000000      1.0     10.000000  \n",
       "75%        0.000000      1.000000      1.0     22.000000  \n",
       "max        4.000000      1.000000      1.0    178.000000  "
      ]
     },
     "execution_count": 17,
     "metadata": {},
     "output_type": "execute_result"
    }
   ],
   "source": [
    "dataNot.describe()"
   ]
  },
  {
   "cell_type": "markdown",
   "id": "c689e469",
   "metadata": {},
   "source": [
    "<b>Obesrvations:</b>\n",
    "\n",
    "<ol>\n",
    "    <li>the 50th percentile for time difference is much more than the original and the people who show up.</li>\n",
    "</ol>"
   ]
  },
  {
   "cell_type": "markdown",
   "id": "1175e21b",
   "metadata": {},
   "source": [
    "Plotting a histogram for the frequency of time difference."
   ]
  },
  {
   "cell_type": "code",
   "execution_count": 18,
   "id": "a06e728c",
   "metadata": {
    "scrolled": true
   },
   "outputs": [
    {
     "data": {
      "image/png": "[encoded data removed]",
      "text/plain": [
       "<Figure size 720x360 with 1 Axes>"
      ]
     },
     "metadata": {
      "needs_background": "light"
     },
     "output_type": "display_data"
    }
   ],
   "source": [
    "plt.hist(dataNot['timeDiff'])\n",
    "plt.xlabel('Time difference between scheduling and appointment (days)')\n",
    "plt.ylabel('Frequency')\n",
    "plt.title(\"Time difference and the amount of appointments reserved for no show appointments\")\n",
    "plt.show()"
   ]
  },
  {
   "cell_type": "markdown",
   "id": "a6803ba9",
   "metadata": {},
   "source": [
    "The time difference in this case is more sparse than the show appointments, meaning that more appointments that are scheduled early on become no show"
   ]
  },
  {
   "cell_type": "markdown",
   "id": "ddcd5fc8",
   "metadata": {},
   "source": [
    "A bar plot to see the ratio of women to men."
   ]
  },
  {
   "cell_type": "code",
   "execution_count": 19,
   "id": "24c1e4e0",
   "metadata": {
    "scrolled": true
   },
   "outputs": [
    {
     "data": {
      "image/png": "[encoded data removed]",
      "text/plain": [
       "<Figure size 720x360 with 1 Axes>"
      ]
     },
     "metadata": {
      "needs_background": "light"
     },
     "output_type": "display_data"
    }
   ],
   "source": [
    "plt.bar(dataNot['Gender'].unique(), [sum(dataNot['Gender'] == x) for x in dataNot['Gender'].unique()])\n",
    "plt.xlabel('Gender')\n",
    "plt.ylabel('Frequency')\n",
    "plt.title('The frequency of each gender booking an appointment(no-show)')\n",
    "plt.show()"
   ]
  },
  {
   "cell_type": "markdown",
   "id": "1589fc82",
   "metadata": {},
   "source": [
    "The frequency of females visiting doctors is higher than that of males."
   ]
  },
  {
   "cell_type": "code",
   "execution_count": 20,
   "id": "39aeec3c",
   "metadata": {},
   "outputs": [
    {
     "data": {
      "text/plain": [
       "1.8891909385113268"
      ]
     },
     "execution_count": 20,
     "metadata": {},
     "output_type": "execute_result"
    }
   ],
   "source": [
    "relative = sum(dataNot['Gender'] == 'F') / sum(dataNot['Gender'] == 'M')\n",
    "relative"
   ]
  },
  {
   "cell_type": "markdown",
   "id": "9d343367",
   "metadata": {},
   "source": [
    "Plotting bar charts for other features."
   ]
  },
  {
   "cell_type": "code",
   "execution_count": 21,
   "id": "7c0e9a04",
   "metadata": {},
   "outputs": [],
   "source": [
    "percent1 = {}"
   ]
  },
  {
   "cell_type": "code",
   "execution_count": 22,
   "id": "f0d1db8f",
   "metadata": {
    "scrolled": false
   },
   "outputs": [
    {
     "data": {
      "text/plain": [
       "<function matplotlib.pyplot.show(close=None, block=None)>"
      ]
     },
     "execution_count": 22,
     "metadata": {},
     "output_type": "execute_result"
    },
    {
     "data": {
      "image/png": "[encoded data removed]",
      "text/plain": [
       "<Figure size 720x360 with 6 Axes>"
      ]
     },
     "metadata": {
      "needs_background": "light"
     },
     "output_type": "display_data"
    }
   ],
   "source": [
    "figure, axes = plt.subplots(nrows=3, ncols=2)\n",
    "\n",
    "ind = 4\n",
    "for i in range(3):\n",
    "    for j in range(2):\n",
    "        curr = dataNot.iloc[:, ind]\n",
    "        axes[i, j].bar(curr.unique(), [sum(curr == x) for x in curr.unique()]) \n",
    "        percent1[data.keys()[ind]] = sum(curr == 1) / dataNot.shape[0]\n",
    "        axes[i, j].set_title(data.keys()[ind])\n",
    "        label = data.keys()[ind] + ' existence'\n",
    "        axes[i, j].set_xlabel(label)\n",
    "        axes[i, j].set_ylabel('Frequency')\n",
    "        ind += 1\n",
    "\n",
    "\n",
    "plt.tight_layout()\n",
    "plt.show"
   ]
  },
  {
   "cell_type": "markdown",
   "id": "417cb511",
   "metadata": {},
   "source": [
    "All of these plots show that the majority of appointments are done by people who do not suffer from chronic illnesses."
   ]
  },
  {
   "cell_type": "markdown",
   "id": "9cf3a749",
   "metadata": {},
   "source": [
    "The percentage of people who had a medical condition or scholarship in this subset."
   ]
  },
  {
   "cell_type": "code",
   "execution_count": 23,
   "id": "67be2bd7",
   "metadata": {},
   "outputs": [
    {
     "name": "stdout",
     "output_type": "stream",
     "text": [
      "When it comes to Scholarship around 12 % of the people who did not show up to the appointment had it.\n",
      "When it comes to Hipertension around 17 % of the people who did not show up to the appointment had it.\n",
      "When it comes to Diabetes around 6 % of the people who did not show up to the appointment had it.\n",
      "When it comes to Alcoholism around 3 % of the people who did not show up to the appointment had it.\n",
      "When it comes to Handcap around 2 % of the people who did not show up to the appointment had it.\n",
      "When it comes to SMS_received around 44 % of the people who did not show up to the appointment had it.\n"
     ]
    }
   ],
   "source": [
    "for i, j in percent1.items():\n",
    "    print(\"When it comes to\", i, \"around\", round(j*100), \"%\", \"of the people who did not show up to the appointment had it.\")"
   ]
  },
  {
   "cell_type": "markdown",
   "id": "68a9817b",
   "metadata": {},
   "source": [
    "Histogram for ages of this subset."
   ]
  },
  {
   "cell_type": "code",
   "execution_count": 24,
   "id": "d91bca85",
   "metadata": {
    "scrolled": true
   },
   "outputs": [
    {
     "data": {
      "image/png": "[encoded data removed]",
      "text/plain": [
       "<Figure size 720x360 with 1 Axes>"
      ]
     },
     "metadata": {
      "needs_background": "light"
     },
     "output_type": "display_data"
    }
   ],
   "source": [
    "plt.hist(dataNot['Age'], 100)\n",
    "plt.xlabel('Age')\n",
    "plt.ylabel('Frequency')\n",
    "plt.title('Age frequency for no show doctor appointments')\n",
    "plt.show()"
   ]
  },
  {
   "cell_type": "markdown",
   "id": "2c7fbaf4",
   "metadata": {},
   "source": [
    "Age nearly has a uniform distribution till we reach 60. This might hint that people of all ages get sick with rates similar, maybe different diseases but on the bigger scale it is similar."
   ]
  },
  {
   "cell_type": "markdown",
   "id": "13b23786",
   "metadata": {},
   "source": [
    "# People who did show up for the appointment"
   ]
  },
  {
   "cell_type": "markdown",
   "id": "30419429",
   "metadata": {},
   "source": [
    "Making a separate dataset for the people who did show up."
   ]
  },
  {
   "cell_type": "code",
   "execution_count": 25,
   "id": "85be2da1",
   "metadata": {},
   "outputs": [],
   "source": [
    "dataShowed = data[data['No-show'] == 0]"
   ]
  },
  {
   "cell_type": "code",
   "execution_count": 26,
   "id": "cb474072",
   "metadata": {},
   "outputs": [
    {
     "data": {
      "text/plain": [
       "array([1], dtype=int64)"
      ]
     },
     "execution_count": 26,
     "metadata": {},
     "output_type": "execute_result"
    }
   ],
   "source": [
    "dataNot['No-show'].unique()"
   ]
  },
  {
   "cell_type": "code",
   "execution_count": 27,
   "id": "f3735397",
   "metadata": {},
   "outputs": [
    {
     "data": {
      "text/plain": [
       "(88208, 12)"
      ]
     },
     "execution_count": 27,
     "metadata": {},
     "output_type": "execute_result"
    }
   ],
   "source": [
    "dataShowed.shape"
   ]
  },
  {
   "cell_type": "markdown",
   "id": "a70cdb15",
   "metadata": {},
   "source": [
    "Getting the basic statistics."
   ]
  },
  {
   "cell_type": "code",
   "execution_count": 28,
   "id": "3582731c",
   "metadata": {},
   "outputs": [
    {
     "data": {
      "text/html": [
       "<div>\n",
       "<style scoped>\n",
       "    .dataframe tbody tr th:only-of-type {\n",
       "        vertical-align: middle;\n",
       "    }\n",
       "\n",
       "    .dataframe tbody tr th {\n",
       "        vertical-align: top;\n",
       "    }\n",
       "\n",
       "    .dataframe thead th {\n",
       "        text-align: right;\n",
       "    }\n",
       "</style>\n",
       "<table border=\"1\" class=\"dataframe\">\n",
       "  <thead>\n",
       "    <tr style=\"text-align: right;\">\n",
       "      <th></th>\n",
       "      <th>Age</th>\n",
       "      <th>Scholarship</th>\n",
       "      <th>Hipertension</th>\n",
       "      <th>Diabetes</th>\n",
       "      <th>Alcoholism</th>\n",
       "      <th>Handcap</th>\n",
       "      <th>SMS_received</th>\n",
       "      <th>No-show</th>\n",
       "      <th>timeDiff</th>\n",
       "    </tr>\n",
       "  </thead>\n",
       "  <tbody>\n",
       "    <tr>\n",
       "      <th>count</th>\n",
       "      <td>88208.000000</td>\n",
       "      <td>88208.000000</td>\n",
       "      <td>88208.000000</td>\n",
       "      <td>88208.000000</td>\n",
       "      <td>88208.000000</td>\n",
       "      <td>88208.000000</td>\n",
       "      <td>88208.000000</td>\n",
       "      <td>88208.0</td>\n",
       "      <td>88208.000000</td>\n",
       "    </tr>\n",
       "    <tr>\n",
       "      <th>mean</th>\n",
       "      <td>37.790064</td>\n",
       "      <td>0.093903</td>\n",
       "      <td>0.204392</td>\n",
       "      <td>0.073837</td>\n",
       "      <td>0.030417</td>\n",
       "      <td>0.022742</td>\n",
       "      <td>0.291334</td>\n",
       "      <td>0.0</td>\n",
       "      <td>7.754659</td>\n",
       "    </tr>\n",
       "    <tr>\n",
       "      <th>std</th>\n",
       "      <td>23.338878</td>\n",
       "      <td>0.291695</td>\n",
       "      <td>0.403259</td>\n",
       "      <td>0.261507</td>\n",
       "      <td>0.171732</td>\n",
       "      <td>0.162750</td>\n",
       "      <td>0.454380</td>\n",
       "      <td>0.0</td>\n",
       "      <td>14.550398</td>\n",
       "    </tr>\n",
       "    <tr>\n",
       "      <th>min</th>\n",
       "      <td>-1.000000</td>\n",
       "      <td>0.000000</td>\n",
       "      <td>0.000000</td>\n",
       "      <td>0.000000</td>\n",
       "      <td>0.000000</td>\n",
       "      <td>0.000000</td>\n",
       "      <td>0.000000</td>\n",
       "      <td>0.0</td>\n",
       "      <td>-1.000000</td>\n",
       "    </tr>\n",
       "    <tr>\n",
       "      <th>25%</th>\n",
       "      <td>18.000000</td>\n",
       "      <td>0.000000</td>\n",
       "      <td>0.000000</td>\n",
       "      <td>0.000000</td>\n",
       "      <td>0.000000</td>\n",
       "      <td>0.000000</td>\n",
       "      <td>0.000000</td>\n",
       "      <td>0.0</td>\n",
       "      <td>-1.000000</td>\n",
       "    </tr>\n",
       "    <tr>\n",
       "      <th>50%</th>\n",
       "      <td>38.000000</td>\n",
       "      <td>0.000000</td>\n",
       "      <td>0.000000</td>\n",
       "      <td>0.000000</td>\n",
       "      <td>0.000000</td>\n",
       "      <td>0.000000</td>\n",
       "      <td>0.000000</td>\n",
       "      <td>0.0</td>\n",
       "      <td>1.000000</td>\n",
       "    </tr>\n",
       "    <tr>\n",
       "      <th>75%</th>\n",
       "      <td>56.000000</td>\n",
       "      <td>0.000000</td>\n",
       "      <td>0.000000</td>\n",
       "      <td>0.000000</td>\n",
       "      <td>0.000000</td>\n",
       "      <td>0.000000</td>\n",
       "      <td>1.000000</td>\n",
       "      <td>0.0</td>\n",
       "      <td>11.000000</td>\n",
       "    </tr>\n",
       "    <tr>\n",
       "      <th>max</th>\n",
       "      <td>115.000000</td>\n",
       "      <td>1.000000</td>\n",
       "      <td>1.000000</td>\n",
       "      <td>1.000000</td>\n",
       "      <td>1.000000</td>\n",
       "      <td>4.000000</td>\n",
       "      <td>1.000000</td>\n",
       "      <td>0.0</td>\n",
       "      <td>178.000000</td>\n",
       "    </tr>\n",
       "  </tbody>\n",
       "</table>\n",
       "</div>"
      ],
      "text/plain": [
       "                Age   Scholarship  Hipertension      Diabetes    Alcoholism  \\\n",
       "count  88208.000000  88208.000000  88208.000000  88208.000000  88208.000000   \n",
       "mean      37.790064      0.093903      0.204392      0.073837      0.030417   \n",
       "std       23.338878      0.291695      0.403259      0.261507      0.171732   \n",
       "min       -1.000000      0.000000      0.000000      0.000000      0.000000   \n",
       "25%       18.000000      0.000000      0.000000      0.000000      0.000000   \n",
       "50%       38.000000      0.000000      0.000000      0.000000      0.000000   \n",
       "75%       56.000000      0.000000      0.000000      0.000000      0.000000   \n",
       "max      115.000000      1.000000      1.000000      1.000000      1.000000   \n",
       "\n",
       "            Handcap  SMS_received  No-show      timeDiff  \n",
       "count  88208.000000  88208.000000  88208.0  88208.000000  \n",
       "mean       0.022742      0.291334      0.0      7.754659  \n",
       "std        0.162750      0.454380      0.0     14.550398  \n",
       "min        0.000000      0.000000      0.0     -1.000000  \n",
       "25%        0.000000      0.000000      0.0     -1.000000  \n",
       "50%        0.000000      0.000000      0.0      1.000000  \n",
       "75%        0.000000      1.000000      0.0     11.000000  \n",
       "max        4.000000      1.000000      0.0    178.000000  "
      ]
     },
     "execution_count": 28,
     "metadata": {},
     "output_type": "execute_result"
    }
   ],
   "source": [
    "dataShowed.describe()"
   ]
  },
  {
   "cell_type": "markdown",
   "id": "17998c77",
   "metadata": {},
   "source": [
    "Plotting a histogram for the frequency of time difference."
   ]
  },
  {
   "cell_type": "code",
   "execution_count": 29,
   "id": "1af5ffee",
   "metadata": {},
   "outputs": [
    {
     "data": {
      "image/png": "[encoded data removed]",
      "text/plain": [
       "<Figure size 720x360 with 1 Axes>"
      ]
     },
     "metadata": {
      "needs_background": "light"
     },
     "output_type": "display_data"
    }
   ],
   "source": [
    "plt.hist(dataShowed['timeDiff'])\n",
    "plt.xlabel('Time difference between scheduling and appointment (days)')\n",
    "plt.ylabel('Frequency')\n",
    "plt.title(\"Time difference and the amount of appointments reserved for show appointments\")\n",
    "plt.show()"
   ]
  },
  {
   "cell_type": "markdown",
   "id": "eebea9de",
   "metadata": {},
   "source": [
    "The time difference here is very clustered around the small time differnce, meaning that many people who actually show up for for the appointments have scheduled the meeting close to the actual time."
   ]
  },
  {
   "cell_type": "markdown",
   "id": "c7203d0c",
   "metadata": {},
   "source": [
    "A bar plot to see the ratio of women to men."
   ]
  },
  {
   "cell_type": "code",
   "execution_count": 30,
   "id": "7233cd06",
   "metadata": {
    "scrolled": true
   },
   "outputs": [
    {
     "data": {
      "image/png": "[encoded data removed]",
      "text/plain": [
       "<Figure size 720x360 with 1 Axes>"
      ]
     },
     "metadata": {
      "needs_background": "light"
     },
     "output_type": "display_data"
    }
   ],
   "source": [
    "plt.bar(dataShowed['Gender'].unique(), [sum(dataShowed['Gender'] == x) for x in dataShowed['Gender'].unique()])\n",
    "plt.xlabel('Gender')\n",
    "plt.ylabel('Frequency')\n",
    "plt.title('The frequency of each gender booking an appointment(show)')\n",
    "plt.show()"
   ]
  },
  {
   "cell_type": "markdown",
   "id": "cf08d297",
   "metadata": {},
   "source": [
    "The frequency of females visiting doctors is higher than that of males."
   ]
  },
  {
   "cell_type": "code",
   "execution_count": 31,
   "id": "4b446304",
   "metadata": {},
   "outputs": [
    {
     "data": {
      "text/plain": [
       "1.8489115690200892"
      ]
     },
     "execution_count": 31,
     "metadata": {},
     "output_type": "execute_result"
    }
   ],
   "source": [
    "relative = sum(dataShowed['Gender'] == 'F') / sum(dataShowed['Gender'] == 'M')\n",
    "relative"
   ]
  },
  {
   "cell_type": "markdown",
   "id": "7d9256f4",
   "metadata": {},
   "source": [
    "Plotting bar charts for other features."
   ]
  },
  {
   "cell_type": "code",
   "execution_count": 32,
   "id": "e22e0cb8",
   "metadata": {},
   "outputs": [],
   "source": [
    "percent = {}"
   ]
  },
  {
   "cell_type": "code",
   "execution_count": 33,
   "id": "91226dd0",
   "metadata": {
    "scrolled": true
   },
   "outputs": [
    {
     "data": {
      "text/plain": [
       "<function matplotlib.pyplot.show(close=None, block=None)>"
      ]
     },
     "execution_count": 33,
     "metadata": {},
     "output_type": "execute_result"
    },
    {
     "data": {
      "image/png": "[encoded data removed]",
      "text/plain": [
       "<Figure size 720x360 with 6 Axes>"
      ]
     },
     "metadata": {
      "needs_background": "light"
     },
     "output_type": "display_data"
    }
   ],
   "source": [
    "figure, axes = plt.subplots(nrows=3, ncols=2)\n",
    "\n",
    "ind = 4\n",
    "for i in range(3):\n",
    "    for j in range(2):\n",
    "        curr = dataShowed.iloc[:, ind]\n",
    "        axes[i, j].bar(curr.unique(), [sum(curr == x) for x in curr.unique()]) \n",
    "        percent[data.keys()[ind]] = sum(curr == 1) / dataShowed.shape[0]\n",
    "        axes[i, j].set_title(data.keys()[ind])\n",
    "        label = data.keys()[ind] + ' existence'\n",
    "        axes[i, j].set_xlabel(label)\n",
    "        axes[i, j].set_ylabel('Frequency')\n",
    "        ind += 1\n",
    "\n",
    "\n",
    "plt.tight_layout()\n",
    "plt.show"
   ]
  },
  {
   "cell_type": "markdown",
   "id": "969e5518",
   "metadata": {},
   "source": [
    "All of these plots show that the majority of appointments are done by people who do not suffer from chronic illnesses."
   ]
  },
  {
   "cell_type": "markdown",
   "id": "a8a832a2",
   "metadata": {},
   "source": [
    "The percentage of people who had a medical condition or scholarship in this subset."
   ]
  },
  {
   "cell_type": "code",
   "execution_count": 34,
   "id": "38ab72c8",
   "metadata": {},
   "outputs": [
    {
     "name": "stdout",
     "output_type": "stream",
     "text": [
      "When it comes to Scholarship around 9 % of the people who showed up to the appointment had it.\n",
      "When it comes to Hipertension around 20 % of the people who showed up to the appointment had it.\n",
      "When it comes to Diabetes around 7 % of the people who showed up to the appointment had it.\n",
      "When it comes to Alcoholism around 3 % of the people who showed up to the appointment had it.\n",
      "When it comes to Handcap around 2 % of the people who showed up to the appointment had it.\n",
      "When it comes to SMS_received around 29 % of the people who showed up to the appointment had it.\n"
     ]
    }
   ],
   "source": [
    "for i, j in percent.items():\n",
    "    print(\"When it comes to\", i, \"around\", round(j*100), \"%\", \"of the people who showed up to the appointment had it.\")"
   ]
  },
  {
   "cell_type": "markdown",
   "id": "ec678301",
   "metadata": {},
   "source": [
    "Histogram for ages of this subset."
   ]
  },
  {
   "cell_type": "code",
   "execution_count": 35,
   "id": "aee44c9a",
   "metadata": {
    "scrolled": true
   },
   "outputs": [
    {
     "data": {
      "image/png": "[encoded data removed]",
      "text/plain": [
       "<Figure size 720x360 with 1 Axes>"
      ]
     },
     "metadata": {
      "needs_background": "light"
     },
     "output_type": "display_data"
    }
   ],
   "source": [
    "plt.hist(dataShowed['Age'], 100)\n",
    "plt.xlabel('Age')\n",
    "plt.ylabel('Frequency')\n",
    "plt.title('Age frequency for show doctor appointments')\n",
    "plt.show()"
   ]
  },
  {
   "cell_type": "markdown",
   "id": "b1f7c72a",
   "metadata": {},
   "source": [
    "Age nearly has a uniform distribution till we reach 60. This might hint that people of all ages get sick with rates similar, maybe different diseases but on the bigger scale it is similar."
   ]
  },
  {
   "cell_type": "markdown",
   "id": "ad7ceb4d",
   "metadata": {},
   "source": [
    "## Observations for the differences between the two"
   ]
  },
  {
   "cell_type": "markdown",
   "id": "8e6c49c1",
   "metadata": {},
   "source": [
    "<b>Obesrvations:</b>\n",
    "\n",
    "<ol>\n",
    "    <li>People who do not show up for the appointments tend to schedule it earlier</li>\n",
    "    <li>The mean age for people who did not show up is less than the mean of people who showed up.</li>\n",
    "    <li>People with medical conditions tend to show up for appointments more. This might be linked to the age metric.</li>\n",
    "    <li>Counterintuitively, the percentage of people who showed up and got the message is less than the percentage of people who did not show up and got the message. However, this metric might not be clear according to things like: when the message was received, did the person see it and others.</li>\n",
    "</ol>"
   ]
  },
  {
   "cell_type": "markdown",
   "id": "3c36a1eb",
   "metadata": {},
   "source": [
    "<b>Limitations:</b>\n",
    "\n",
    "<ol>\n",
    "    <li>More data analysis could have been done using the neighbourhood feature but they were not relevant to the questions being asked.</li>\n",
    "    <li>Outliers, negative ages for example, affected the analysis. When describing the data this affected the mean and quantiles. It also affected the graphs.</li>\n",
    "    <li>Knowing the types of doctors that people cancelled would have given us more insights like the likelihood of the case being serious and so on.</li>\n",
    "</ol>"
   ]
  }
 ],
 "metadata": {
  "kernelspec": {
   "display_name": "Python 3",
   "language": "python",
   "name": "python3"
  },
  "language_info": {
   "codemirror_mode": {
    "name": "ipython",
    "version": 3
   },
   "file_extension": ".py",
   "mimetype": "text/x-python",
   "name": "python",
   "nbconvert_exporter": "python",
   "pygments_lexer": "ipython3",
   "version": "3.8.5"
  }
 },
 "nbformat": 4,
 "nbformat_minor": 5
}
